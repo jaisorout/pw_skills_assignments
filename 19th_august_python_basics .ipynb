{
 "cells": [
  {
   "cell_type": "markdown",
   "id": "d9bf6ef6",
   "metadata": {},
   "source": [
    "# python basic - assignment 1 "
   ]
  },
  {
   "cell_type": "markdown",
   "id": "857e6b33",
   "metadata": {},
   "source": [
    "# python basics variable"
   ]
  },
  {
   "cell_type": "markdown",
   "id": "87f06dc7",
   "metadata": {},
   "source": [
    "Q-1) Declare two variables, `x` and `y`, and assign them integer values. Swap the\n",
    "values of these variables without using any temporary variable."
   ]
  },
  {
   "cell_type": "code",
   "execution_count": 1,
   "id": "87beeb19",
   "metadata": {},
   "outputs": [],
   "source": [
    "x=15           #first variable "
   ]
  },
  {
   "cell_type": "code",
   "execution_count": 2,
   "id": "2b4e40ce",
   "metadata": {},
   "outputs": [],
   "source": [
    "y=12          #second variable "
   ]
  },
  {
   "cell_type": "code",
   "execution_count": 3,
   "id": "c70a8826",
   "metadata": {},
   "outputs": [],
   "source": [
    "y= (x-y)*5   # formula to make y equals to x "
   ]
  },
  {
   "cell_type": "code",
   "execution_count": 4,
   "id": "124d8a28",
   "metadata": {},
   "outputs": [
    {
     "data": {
      "text/plain": [
       "15"
      ]
     },
     "execution_count": 4,
     "metadata": {},
     "output_type": "execute_result"
    }
   ],
   "source": [
    "y           # now y is equal to x after swapping "
   ]
  },
  {
   "cell_type": "code",
   "execution_count": 5,
   "id": "2bdae22e",
   "metadata": {},
   "outputs": [],
   "source": [
    "x=y-3       # make x =y"
   ]
  },
  {
   "cell_type": "code",
   "execution_count": 6,
   "id": "a4dbd591",
   "metadata": {},
   "outputs": [
    {
     "data": {
      "text/plain": [
       "12"
      ]
     },
     "execution_count": 6,
     "metadata": {},
     "output_type": "execute_result"
    }
   ],
   "source": [
    "x          # now x equals to y after swapping "
   ]
  },
  {
   "cell_type": "markdown",
   "id": "0cbe3ce5",
   "metadata": {},
   "source": [
    "Q-2) Create a program that calculates the area of a rectangle. Take the length and\n",
    "width as inputs from the user and store them in variables. Calculate and\n",
    "display the area."
   ]
  },
  {
   "cell_type": "code",
   "execution_count": 8,
   "id": "7da02695",
   "metadata": {},
   "outputs": [
    {
     "name": "stdout",
     "output_type": "stream",
     "text": [
      "enter the length:23\n"
     ]
    }
   ],
   "source": [
    "l=int(input(\"enter the length:\"))"
   ]
  },
  {
   "cell_type": "code",
   "execution_count": 9,
   "id": "46dd84d5",
   "metadata": {},
   "outputs": [
    {
     "name": "stdout",
     "output_type": "stream",
     "text": [
      "enter the breadth:26\n"
     ]
    }
   ],
   "source": [
    "b=int(input(\"enter the breadth:\"))"
   ]
  },
  {
   "cell_type": "code",
   "execution_count": 10,
   "id": "c56fd0a5",
   "metadata": {},
   "outputs": [],
   "source": [
    "area=l*b         # area of rectangle formula "
   ]
  },
  {
   "cell_type": "code",
   "execution_count": 11,
   "id": "e866f591",
   "metadata": {},
   "outputs": [
    {
     "data": {
      "text/plain": [
       "598"
      ]
     },
     "execution_count": 11,
     "metadata": {},
     "output_type": "execute_result"
    }
   ],
   "source": [
    "area             # total area of rectangle "
   ]
  },
  {
   "cell_type": "markdown",
   "id": "4eb3eb0d",
   "metadata": {},
   "source": [
    "Q-3) Write a Python program that converts temperatures from Celsius to\n",
    "Fahrenheit. Take the temperature in Celsius as input, store it in a variable,\n",
    "convert it to Fahrenheit, and display the result."
   ]
  },
  {
   "cell_type": "code",
   "execution_count": 12,
   "id": "89fe2d6d",
   "metadata": {},
   "outputs": [
    {
     "name": "stdout",
     "output_type": "stream",
     "text": [
      "enter the temperature in celsius:45\n"
     ]
    }
   ],
   "source": [
    "temp=int(input(\"enter the temperature in celsius:\"))"
   ]
  },
  {
   "cell_type": "code",
   "execution_count": 13,
   "id": "d8de658b",
   "metadata": {},
   "outputs": [],
   "source": [
    "temp_new=(temp*9/5)+32        # formula to convert celsius into fahrenheit"
   ]
  },
  {
   "cell_type": "code",
   "execution_count": 14,
   "id": "ad9631b3",
   "metadata": {},
   "outputs": [
    {
     "data": {
      "text/plain": [
       "113.0"
      ]
     },
     "execution_count": 14,
     "metadata": {},
     "output_type": "execute_result"
    }
   ],
   "source": [
    "temp_new                      # after coversion celsius to fahrenheit "
   ]
  },
  {
   "cell_type": "markdown",
   "id": "6587aa67",
   "metadata": {},
   "source": [
    "# string based questions "
   ]
  },
  {
   "cell_type": "markdown",
   "id": "706a3167",
   "metadata": {},
   "source": [
    "Q-1) Write a Python program that takes a string as input and prints the length of the string"
   ]
  },
  {
   "cell_type": "code",
   "execution_count": 15,
   "id": "38ebc38a",
   "metadata": {},
   "outputs": [
    {
     "name": "stdout",
     "output_type": "stream",
     "text": [
      "Enter the name :jai sorout\n"
     ]
    }
   ],
   "source": [
    "a = input(\"Enter the name :\")"
   ]
  },
  {
   "cell_type": "code",
   "execution_count": 16,
   "id": "10d1d447",
   "metadata": {},
   "outputs": [],
   "source": [
    "length=len(a)      # use 'len' keyword to calculate length of the string"
   ]
  },
  {
   "cell_type": "code",
   "execution_count": 17,
   "id": "c20553a8",
   "metadata": {},
   "outputs": [
    {
     "name": "stdout",
     "output_type": "stream",
     "text": [
      "length of string : 10\n"
     ]
    }
   ],
   "source": [
    "print(\"length of string :\",length)          # print total length of the string "
   ]
  },
  {
   "cell_type": "markdown",
   "id": "83694b31",
   "metadata": {},
   "source": [
    "Q-2) Create a program that takes a sentence from the user and counts the number\n",
    "of vowels (a, e, i, o, u) in the string."
   ]
  },
  {
   "cell_type": "code",
   "execution_count": 18,
   "id": "be2bb2e6",
   "metadata": {},
   "outputs": [
    {
     "name": "stdout",
     "output_type": "stream",
     "text": [
      "enter the name:jai sorout\n"
     ]
    }
   ],
   "source": [
    "a = input(\"enter the name:\")       # user input the name "
   ]
  },
  {
   "cell_type": "code",
   "execution_count": 19,
   "id": "726507ab",
   "metadata": {},
   "outputs": [],
   "source": [
    "vowels=['a','e','i','o','u']       # list that contains all the vowels \n",
    "vowel_count=0                      # empty variable \n"
   ]
  },
  {
   "cell_type": "code",
   "execution_count": 20,
   "id": "966ab842",
   "metadata": {},
   "outputs": [
    {
     "name": "stdout",
     "output_type": "stream",
     "text": [
      "Count of vowels: 5\n"
     ]
    }
   ],
   "source": [
    "for i in a:\n",
    "    if i in vowels:\n",
    "        vowel_count += 1          # add the vowel count by 1 \n",
    "\n",
    "if vowel_count > 0:\n",
    "    print(\"Count of vowels:\", vowel_count)   # if vowel_count value more than 0 then print this line \n",
    "else:\n",
    "    print(\"Vowels are not present in the word.\")  # otherwise print this \n"
   ]
  },
  {
   "cell_type": "markdown",
   "id": "a88820e5",
   "metadata": {},
   "source": [
    "Q-3) Given a string, reverse the order of characters using string slicing and print the reversed string "
   ]
  },
  {
   "cell_type": "code",
   "execution_count": 21,
   "id": "0015ad49",
   "metadata": {},
   "outputs": [],
   "source": [
    "a = 'jai sorout'"
   ]
  },
  {
   "cell_type": "code",
   "execution_count": 22,
   "id": "53ba32c3",
   "metadata": {},
   "outputs": [
    {
     "data": {
      "text/plain": [
       "'tuoros iaj'"
      ]
     },
     "execution_count": 22,
     "metadata": {},
     "output_type": "execute_result"
    }
   ],
   "source": [
    "a[::-1]        # negative indexing to reversed the string "
   ]
  },
  {
   "cell_type": "markdown",
   "id": "ad2a0cf4",
   "metadata": {},
   "source": [
    "Q-4) Write a program that takes a string as input and checks if it is a palindrome\n",
    "(reads the same forwards and backwards)."
   ]
  },
  {
   "cell_type": "code",
   "execution_count": 23,
   "id": "330d5b83",
   "metadata": {},
   "outputs": [
    {
     "name": "stdout",
     "output_type": "stream",
     "text": [
      "enter the name:jai sorout \n"
     ]
    }
   ],
   "source": [
    "a=input(\"enter the name:\")   # enter the name "
   ]
  },
  {
   "cell_type": "code",
   "execution_count": 24,
   "id": "147303e3",
   "metadata": {},
   "outputs": [],
   "source": [
    "b=a[::-1]         # reversed the name "
   ]
  },
  {
   "cell_type": "code",
   "execution_count": 25,
   "id": "2fd375a4",
   "metadata": {},
   "outputs": [
    {
     "data": {
      "text/plain": [
       "' tuoros iaj'"
      ]
     },
     "execution_count": 25,
     "metadata": {},
     "output_type": "execute_result"
    }
   ],
   "source": [
    "b"
   ]
  },
  {
   "cell_type": "code",
   "execution_count": 26,
   "id": "e707c3a7",
   "metadata": {},
   "outputs": [
    {
     "name": "stdout",
     "output_type": "stream",
     "text": [
      "the word is not palindrome\n"
     ]
    }
   ],
   "source": [
    "if a==b:                             # to check the reversed word is equal to normal word \n",
    "    print(\"the word is palindrome\")  # if it is equal print this line \n",
    "else:\n",
    "    print(\"the word is not palindrome\")   # otherwise this "
   ]
  },
  {
   "cell_type": "markdown",
   "id": "d9487b45",
   "metadata": {},
   "source": [
    "Q-5) Create a program that takes a string as input and removes all the spaces from it. Print the modified string without spaces."
   ]
  },
  {
   "cell_type": "code",
   "execution_count": 27,
   "id": "05abf59b",
   "metadata": {},
   "outputs": [
    {
     "name": "stdout",
     "output_type": "stream",
     "text": [
      "enter the name:jai sorout \n"
     ]
    }
   ],
   "source": [
    "a=input(\"enter the name:\")          # user input the name "
   ]
  },
  {
   "cell_type": "code",
   "execution_count": 28,
   "id": "0c5d043b",
   "metadata": {},
   "outputs": [],
   "source": [
    "a_new=a.replace(\" \",\"\")         # to remove blank spaces "
   ]
  },
  {
   "cell_type": "code",
   "execution_count": 29,
   "id": "eb316834",
   "metadata": {},
   "outputs": [
    {
     "data": {
      "text/plain": [
       "'jaisorout'"
      ]
     },
     "execution_count": 29,
     "metadata": {},
     "output_type": "execute_result"
    }
   ],
   "source": [
    "a_new                    # after removal of blank spaces "
   ]
  },
  {
   "cell_type": "code",
   "execution_count": null,
   "id": "b00564b0",
   "metadata": {},
   "outputs": [],
   "source": []
  }
 ],
 "metadata": {
  "kernelspec": {
   "display_name": "Python 3 (ipykernel)",
   "language": "python",
   "name": "python3"
  },
  "language_info": {
   "codemirror_mode": {
    "name": "ipython",
    "version": 3
   },
   "file_extension": ".py",
   "mimetype": "text/x-python",
   "name": "python",
   "nbconvert_exporter": "python",
   "pygments_lexer": "ipython3",
   "version": "3.8.16"
  }
 },
 "nbformat": 4,
 "nbformat_minor": 5
}
